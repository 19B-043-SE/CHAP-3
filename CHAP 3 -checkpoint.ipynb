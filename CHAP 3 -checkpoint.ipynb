{
 "cells": [
  {
   "cell_type": "markdown",
   "metadata": {},
   "source": [
    "# AREEBA SHAHBAZ \n",
    "## 19B-43-SE\n",
    "## CHAPTER NO: 3 TASK"
   ]
  },
  {
   "cell_type": "code",
   "execution_count": 1,
   "metadata": {},
   "outputs": [
    {
     "name": "stdout",
     "output_type": "stream",
     "text": [
      "Enter twemperature in degree fahrenheit: 32\n",
      "0.0\n"
     ]
    }
   ],
   "source": [
    "#(3.1)\n",
    "fahrenheit = eval(input(\"Enter twemperature in degree fahrenheit: \"))\n",
    "celsius = (5/9) * (fahrenheit - 32)\n",
    "print(celsius)"
   ]
  },
  {
   "cell_type": "code",
   "execution_count": 2,
   "metadata": {},
   "outputs": [
    {
     "name": "stdout",
     "output_type": "stream",
     "text": [
      "enter your age: 43\n",
      "you are not applicable for pension\n",
      "Thank You!\n",
      "\n",
      "\n",
      "enter your age: 67\n",
      "you can get your pensions benefits\n",
      "Thank You!\n"
     ]
    }
   ],
   "source": [
    "#(3.2)\n",
    "age = eval(input(\"enter your age: \"))\n",
    "if age>62:\n",
    "    print(\"you can get your pensions benefits\")\n",
    "else:\n",
    "    print(\"you are not applicable for pension\")\n",
    "print(\"Thank You!\")\n",
    "\n",
    "print(\"\\n\")\n",
    "\n",
    "age = eval(input(\"enter your age: \"))\n",
    "if age>62:\n",
    "    print(\"you can get your pensions benefits\")\n",
    "else:\n",
    "    print(\"you are not applicable for pension\")\n",
    "print(\"Thank You!\")"
   ]
  },
  {
   "cell_type": "code",
   "execution_count": 10,
   "metadata": {},
   "outputs": [
    {
     "name": "stdout",
     "output_type": "stream",
     "text": [
      "enter the names: ariba\n",
      "they are one of the top 5 cricket players\n"
     ]
    }
   ],
   "source": [
    "name = input(\"enter the names: \")\n",
    "if name in ['ariba','nimra','yumna','almas','mehek']:\n",
    "    print(\"they are one of the top 5 cricket players\")\n",
    "else:\n",
    "    print(\"not valid\")"
   ]
  },
  {
   "cell_type": "code",
   "execution_count": 19,
   "metadata": {},
   "outputs": [
    {
     "name": "stdout",
     "output_type": "stream",
     "text": [
      "you are dead!\n",
      "\n",
      "\n",
      "!\n"
     ]
    }
   ],
   "source": [
    "hits = 13\n",
    "sheilds = 0\n",
    "if hits>10 and sheilds == 0:\n",
    "    print(\"you are dead!\")\n",
    "print(\"\\n\")    \n",
    "\n",
    "hits = 9\n",
    "sheilds = 0\n",
    "if hits>10 and sheilds == 0:\n",
    "    print(\"you are dead!\")\n",
    "else:\n",
    "    print(\"!\")"
   ]
  },
  {
   "cell_type": "code",
   "execution_count": 23,
   "metadata": {},
   "outputs": [
    {
     "name": "stdout",
     "output_type": "stream",
     "text": [
      "enter variable: north\n",
      "i can escape\n"
     ]
    }
   ],
   "source": [
    "var = input(\"enter variable: \")\n",
    "if var in[\"north\" or \"west\" or \"south\" or \"east\"]:\n",
    "    print(\"i can escape\")"
   ]
  },
  {
   "cell_type": "code",
   "execution_count": 28,
   "metadata": {},
   "outputs": [
    {
     "name": "stdout",
     "output_type": "stream",
     "text": [
      "enter year: 19\n",
      "definitely not a leap year\n"
     ]
    }
   ],
   "source": [
    "#(3.3)\n",
    "year = int(input(\"enter year: \"))\n",
    "if year % 4 == 0:\n",
    "    print(\"could be a leap year.\")\n",
    "else:\n",
    "    print(\"definitely not a leap year\")"
   ]
  },
  {
   "cell_type": "code",
   "execution_count": 29,
   "metadata": {},
   "outputs": [
    {
     "name": "stdout",
     "output_type": "stream",
     "text": [
      "You Won!\n"
     ]
    }
   ],
   "source": [
    "ticket = 7\n",
    "lottery = 7\n",
    "if ticket == lottery:\n",
    "    print(\"You Won!\")\n",
    "else:\n",
    "    print(\"Better luck next time!\")"
   ]
  },
  {
   "cell_type": "code",
   "execution_count": 11,
   "metadata": {},
   "outputs": [
    {
     "name": "stdout",
     "output_type": "stream",
     "text": [
      "Enter your login id: sue\n",
      "you are in\n",
      "done\n"
     ]
    }
   ],
   "source": [
    "#(3.4)\n",
    "name_list = [\"joe\", \"sue\", \"hani\", \"sophie\"]\n",
    "login_id = str(input(\"Enter your login id: \"))\n",
    "if login_id in name_list:\n",
    "    print(\"you are in\")\n",
    "else:\n",
    "    print(\"User unknown\")\n",
    "print(\"done\")"
   ]
  },
  {
   "cell_type": "code",
   "execution_count": 32,
   "metadata": {},
   "outputs": [
    {
     "name": "stdout",
     "output_type": "stream",
     "text": [
      "enter num of strings you want to add: 3\n",
      "string: freindship\n",
      "string: trust\n",
      "string: promise\n",
      "['freindship', 'trust', 'promise']\n",
      "freindship\n",
      "trust\n",
      "promise\n"
     ]
    }
   ],
   "source": [
    "#(3.5)\n",
    "lst = []\n",
    "x = int(input(\"enter num of strings you want to add: \"))\n",
    "for i in range(0,x):\n",
    "    y = input(\"string: \")\n",
    "    lst.append(y)\n",
    "print(lst)\n",
    "print(*lst, sep = \"\\n\")"
   ]
  },
  {
   "cell_type": "code",
   "execution_count": 30,
   "metadata": {},
   "outputs": [
    {
     "name": "stdout",
     "output_type": "stream",
     "text": [
      "0\n",
      "1\n",
      "2\n",
      "3\n",
      "4\n",
      "5\n",
      "6\n",
      "7\n",
      "8\n",
      "9\n"
     ]
    }
   ],
   "source": [
    "#(3.6)\n",
    "for i in range(0,10):\n",
    "    print(i)\n"
   ]
  },
  {
   "cell_type": "code",
   "execution_count": 31,
   "metadata": {},
   "outputs": [
    {
     "name": "stdout",
     "output_type": "stream",
     "text": [
      "0\n",
      "1\n"
     ]
    }
   ],
   "source": [
    "for i in range(0,2):\n",
    "    print(i)"
   ]
  },
  {
   "cell_type": "code",
   "execution_count": 33,
   "metadata": {},
   "outputs": [
    {
     "name": "stdout",
     "output_type": "stream",
     "text": [
      "3\n",
      "4\n",
      "5\n",
      "6\n",
      "7\n",
      "8\n",
      "9\n",
      "10\n",
      "11\n",
      "12\n"
     ]
    }
   ],
   "source": [
    "#(3.7)\n",
    "for i in range(3,13):\n",
    "    print(i)"
   ]
  },
  {
   "cell_type": "code",
   "execution_count": 34,
   "metadata": {},
   "outputs": [
    {
     "name": "stdout",
     "output_type": "stream",
     "text": [
      "0\n",
      "2\n",
      "4\n",
      "6\n",
      "8\n"
     ]
    }
   ],
   "source": [
    "for i in range(0,9,2):\n",
    "    print(i)"
   ]
  },
  {
   "cell_type": "code",
   "execution_count": 35,
   "metadata": {},
   "outputs": [
    {
     "name": "stdout",
     "output_type": "stream",
     "text": [
      "0\n",
      "3\n",
      "6\n",
      "9\n",
      "12\n",
      "15\n",
      "18\n",
      "21\n"
     ]
    }
   ],
   "source": [
    "for i in range(0, 24, 3):\n",
    "    print(i)"
   ]
  },
  {
   "cell_type": "code",
   "execution_count": 36,
   "metadata": {},
   "outputs": [
    {
     "name": "stdout",
     "output_type": "stream",
     "text": [
      "3\n",
      "8\n"
     ]
    }
   ],
   "source": [
    "for i in range(3,12,5):\n",
    "    print(i)"
   ]
  },
  {
   "cell_type": "code",
   "execution_count": 41,
   "metadata": {},
   "outputs": [
    {
     "name": "stdout",
     "output_type": "stream",
     "text": [
      "enter radius: 3\n",
      "18.84955592153876 m\n"
     ]
    }
   ],
   "source": [
    "#(3.8)\n",
    "from math import pi\n",
    "def perimeter(r):\n",
    "    result = 2 * pi * r\n",
    "    print(result,\"m\")\n",
    "    return\n",
    "r = eval(input(\"enter radius: \" ))\n",
    "perimeter(r)"
   ]
  },
  {
   "cell_type": "code",
   "execution_count": 43,
   "metadata": {},
   "outputs": [
    {
     "name": "stdout",
     "output_type": "stream",
     "text": [
      " 13\n",
      " 75\n",
      "88\n"
     ]
    }
   ],
   "source": [
    "#(3,9)\n",
    "def average(num1, num2):\n",
    "    result = (num1 + num2)\n",
    "    print(result)\n",
    "    return\n",
    "num1 = eval(input(\" \"))\n",
    "num2 = eval(input(\" \"))\n",
    "average(num1, num2)"
   ]
  },
  {
   "cell_type": "code",
   "execution_count": 48,
   "metadata": {},
   "outputs": [
    {
     "name": "stdout",
     "output_type": "stream",
     "text": [
      "enter text: ArIba\n"
     ]
    },
    {
     "data": {
      "text/plain": [
       "False"
      ]
     },
     "execution_count": 48,
     "metadata": {},
     "output_type": "execute_result"
    }
   ],
   "source": [
    "#(3.10)\n",
    "def noVowel(text):\n",
    "    for i in text:\n",
    "        if i in \"AEIOUaeiou\":\n",
    "            return False\n",
    "    return True\n",
    "text = input(\"enter text: \")\n",
    "noVowel(text)"
   ]
  },
  {
   "cell_type": "code",
   "execution_count": 53,
   "metadata": {},
   "outputs": [
    {
     "data": {
      "text/plain": [
       "True"
      ]
     },
     "execution_count": 53,
     "metadata": {},
     "output_type": "execute_result"
    }
   ],
   "source": [
    "#(3.11)\n",
    "list = [8,0,-2,4,-6,10]\n",
    "def alleven(list):\n",
    "    for i in list:\n",
    "        if (i % 2 == 0):\n",
    "            return True\n",
    "    return False\n",
    "alleven(list)"
   ]
  },
  {
   "cell_type": "code",
   "execution_count": 58,
   "metadata": {},
   "outputs": [
    {
     "data": {
      "text/plain": [
       "False"
      ]
     },
     "execution_count": 58,
     "metadata": {},
     "output_type": "execute_result"
    }
   ],
   "source": [
    "numlist = [8,0,-1,4,-6,10]\n",
    "def alleven(numlist):\n",
    "    for i in numlist:\n",
    "        if (i % 2 == 0):\n",
    "            return False\n",
    "    return True\n",
    "alleven(numlist)"
   ]
  },
  {
   "cell_type": "code",
   "execution_count": 2,
   "metadata": {},
   "outputs": [
    {
     "name": "stdout",
     "output_type": "stream",
     "text": [
      "-7\n",
      "-5\n"
     ]
    }
   ],
   "source": [
    "#(3.12)\n",
    "numList = [2, -7, -5, 3, 1]\n",
    "def neg_list(numList):\n",
    "    for i in numList:\n",
    "        if i < 0:\n",
    "            print(i)\n",
    "    return\n",
    "neg_list(numList)"
   ]
  },
  {
   "cell_type": "code",
   "execution_count": 3,
   "metadata": {},
   "outputs": [
    {
     "name": "stdout",
     "output_type": "stream",
     "text": [
      "Help on function average in module __main__:\n",
      "\n",
      "average(num1, num2)\n",
      "    #(3.13)\n",
      "\n",
      " 3\n",
      " 5\n",
      "4.0\n"
     ]
    }
   ],
   "source": [
    "#(3.13)\n",
    "def average(num1, num2):\n",
    "    result = (num1 + num2)/2\n",
    "    print(result)\n",
    "    return\n",
    "help(average)\n",
    "num1 = eval(input(\" \"))\n",
    "num2 = eval(input(\" \"))\n",
    "average(num1, num2)"
   ]
  },
  {
   "cell_type": "code",
   "execution_count": 4,
   "metadata": {},
   "outputs": [
    {
     "name": "stdout",
     "output_type": "stream",
     "text": [
      "Help on function neg_list in module __main__:\n",
      "\n",
      "neg_list(numList)\n",
      "\n",
      "-7\n",
      "-5\n"
     ]
    }
   ],
   "source": [
    "numList = [2, -7, -5, 3, 1]\n",
    "def neg_list(numList):\n",
    "    for i in numList:\n",
    "        if i < 0:\n",
    "            print(i)\n",
    "    return\n",
    "help(neg_list)\n",
    "neg_list(numList)"
   ]
  },
  {
   "cell_type": "code",
   "execution_count": 5,
   "metadata": {},
   "outputs": [
    {
     "name": "stdout",
     "output_type": "stream",
     "text": [
      "[5, 6, 7]\n",
      "[5, 6, 7]\n",
      "3\n"
     ]
    }
   ],
   "source": [
    "#(3.14)\n",
    "a = [5,6,7]\n",
    "print(a)\n",
    "b = a\n",
    "print(b)\n",
    "a = 3\n",
    "print(a)"
   ]
  },
  {
   "cell_type": "code",
   "execution_count": 6,
   "metadata": {},
   "outputs": [
    {
     "name": "stdout",
     "output_type": "stream",
     "text": [
      "['aus', 'ind', 'england', 'pak']\n"
     ]
    }
   ],
   "source": [
    "#(3.15)\n",
    "team = ['pak','ind','england','aus']\n",
    "team[0],team[-1] = team[-1],team[0]\n",
    "print(team)"
   ]
  },
  {
   "cell_type": "code",
   "execution_count": 7,
   "metadata": {},
   "outputs": [
    {
     "name": "stdout",
     "output_type": "stream",
     "text": [
      "['usb', 'chineese', 'black', 'burger']\n"
     ]
    }
   ],
   "source": [
    "#(3.16)\n",
    "def swaplist():\n",
    "    lst = ['burger','chineese','black','usb']\n",
    "    lst[0],lst[-1] = lst[-1],lst[0]\n",
    "    print(lst)\n",
    "    return\n",
    "swaplist()"
   ]
  },
  {
   "cell_type": "code",
   "execution_count": 14,
   "metadata": {},
   "outputs": [
    {
     "name": "stdout",
     "output_type": "stream",
     "text": [
      "8\n"
     ]
    }
   ],
   "source": [
    "#(3.17)\n",
    "a = eval('2*(3+1)')\n",
    "print(a)"
   ]
  },
  {
   "cell_type": "code",
   "execution_count": 17,
   "metadata": {},
   "outputs": [
    {
     "ename": "NameError",
     "evalue": "name 'hello' is not defined",
     "output_type": "error",
     "traceback": [
      "\u001b[1;31m---------------------------------------------------------------------------\u001b[0m",
      "\u001b[1;31mNameError\u001b[0m                                 Traceback (most recent call last)",
      "\u001b[1;32m<ipython-input-17-3cd333feb7a0>\u001b[0m in \u001b[0;36m<module>\u001b[1;34m\u001b[0m\n\u001b[1;32m----> 1\u001b[1;33m \u001b[0mb\u001b[0m \u001b[1;33m=\u001b[0m \u001b[0meval\u001b[0m\u001b[1;33m(\u001b[0m\u001b[1;34m'hello'\u001b[0m\u001b[1;33m)\u001b[0m\u001b[1;33m\u001b[0m\u001b[1;33m\u001b[0m\u001b[0m\n\u001b[0m\u001b[0;32m      2\u001b[0m \u001b[0mprint\u001b[0m\u001b[1;33m(\u001b[0m\u001b[0mb\u001b[0m\u001b[1;33m)\u001b[0m\u001b[1;33m\u001b[0m\u001b[1;33m\u001b[0m\u001b[0m\n\u001b[0;32m      3\u001b[0m \u001b[1;31m#eval functions work only with int and float data type\u001b[0m\u001b[1;33m\u001b[0m\u001b[1;33m\u001b[0m\u001b[1;33m\u001b[0m\u001b[0m\n\u001b[0;32m      4\u001b[0m \u001b[1;33m\u001b[0m\u001b[0m\n\u001b[0;32m      5\u001b[0m \u001b[1;33m\u001b[0m\u001b[0m\n",
      "\u001b[1;32m<string>\u001b[0m in \u001b[0;36m<module>\u001b[1;34m\u001b[0m\n",
      "\u001b[1;31mNameError\u001b[0m: name 'hello' is not defined"
     ]
    }
   ],
   "source": [
    "b = eval('hello')\n",
    "print(b)\n",
    "#eval functions work only with int and float data type"
   ]
  },
  {
   "cell_type": "code",
   "execution_count": 12,
   "metadata": {},
   "outputs": [
    {
     "name": "stdout",
     "output_type": "stream",
     "text": [
      "hello world!\n",
      "2\n"
     ]
    }
   ],
   "source": [
    "c = eval(\"'hello' + ' ' + 'world!'\")\n",
    "print(c)\n",
    "\n",
    "d = eval(\"'ASCII'.count('I')\")\n",
    "print(d)"
   ]
  },
  {
   "cell_type": "code",
   "execution_count": 13,
   "metadata": {},
   "outputs": [
    {
     "ename": "SyntaxError",
     "evalue": "invalid syntax (<string>, line 1)",
     "output_type": "error",
     "traceback": [
      "Traceback \u001b[1;36m(most recent call last)\u001b[0m:\n",
      "  File \u001b[0;32m\"C:\\ProgramData\\Anaconda3\\lib\\site-packages\\IPython\\core\\interactiveshell.py\"\u001b[0m, line \u001b[0;32m3325\u001b[0m, in \u001b[0;35mrun_code\u001b[0m\n    exec(code_obj, self.user_global_ns, self.user_ns)\n",
      "\u001b[1;36m  File \u001b[1;32m\"<ipython-input-13-4a0adcb585d5>\"\u001b[1;36m, line \u001b[1;32m1\u001b[1;36m, in \u001b[1;35m<module>\u001b[1;36m\u001b[0m\n\u001b[1;33m    e = eval('x = 5')\u001b[0m\n",
      "\u001b[1;36m  File \u001b[1;32m\"<string>\"\u001b[1;36m, line \u001b[1;32m1\u001b[0m\n\u001b[1;33m    x = 5\u001b[0m\n\u001b[1;37m      ^\u001b[0m\n\u001b[1;31mSyntaxError\u001b[0m\u001b[1;31m:\u001b[0m invalid syntax\n"
     ]
    }
   ],
   "source": [
    "e = eval('x = 5')\n",
    "# comparision operator is (==) not (=)"
   ]
  },
  {
   "cell_type": "code",
   "execution_count": 20,
   "metadata": {},
   "outputs": [
    {
     "name": "stdout",
     "output_type": "stream",
     "text": [
      "OK\n",
      "OK\n"
     ]
    }
   ],
   "source": [
    "#(3.18)\n",
    "a = 3\n",
    "b = 4 \n",
    "c = 5\n",
    "if a < b:\n",
    "    print(\"OK\")\n",
    "if c < b:\n",
    "    print(\"OK\")\n",
    "if (a+b)==c:\n",
    "    print(\"OK\")\n",
    "if (a**2)+(b**2) == (c**2):\n",
    "    print(\"OK\")"
   ]
  },
  {
   "cell_type": "code",
   "execution_count": 23,
   "metadata": {},
   "outputs": [
    {
     "name": "stdout",
     "output_type": "stream",
     "text": [
      "NOT OK\n",
      "NOT OK\n"
     ]
    }
   ],
   "source": [
    "#(3.19)\n",
    "a = 3\n",
    "b = 4 \n",
    "c = 5\n",
    "if a < b:\n",
    "    print(\"NOT OK\")\n",
    "if c < b:\n",
    "    print(\"NOT OK\")\n",
    "if (a+b)==c:\n",
    "    print(\"NOT OK\")\n",
    "if (a**2)+(b**2) == (c**2):\n",
    "    print(\"NOT OK\")\n"
   ]
  },
  {
   "cell_type": "code",
   "execution_count": 24,
   "metadata": {},
   "outputs": [
    {
     "name": "stdout",
     "output_type": "stream",
     "text": [
      "jan\n",
      "feb\n",
      "mar\n"
     ]
    }
   ],
   "source": [
    "#(3.20)\n",
    "lst = ['jan','feb','mar']\n",
    "for i in lst:\n",
    "    print(i[:3])"
   ]
  },
  {
   "cell_type": "code",
   "execution_count": 25,
   "metadata": {},
   "outputs": [
    {
     "name": "stdout",
     "output_type": "stream",
     "text": [
      "2\n",
      "4\n",
      "6\n",
      "8\n"
     ]
    }
   ],
   "source": [
    "#(3.21)\n",
    "lst = [2,3,4,5,6,7,8,9]\n",
    "for i in lst:\n",
    "    if (i % 2 == 0):\n",
    "        print(i)"
   ]
  },
  {
   "cell_type": "code",
   "execution_count": 27,
   "metadata": {},
   "outputs": [
    {
     "name": "stdout",
     "output_type": "stream",
     "text": [
      "4\n",
      "8\n"
     ]
    }
   ],
   "source": [
    "#(3.22)\n",
    "lst = [2,3,4,5,6,7,8,9]\n",
    "for i in lst:\n",
    "    if ((i**2) % 8 == 0):\n",
    "        print(i)"
   ]
  },
  {
   "cell_type": "code",
   "execution_count": 28,
   "metadata": {},
   "outputs": [
    {
     "name": "stdout",
     "output_type": "stream",
     "text": [
      "0\n",
      "1\n"
     ]
    }
   ],
   "source": [
    "#(3.23)\n",
    "for i in range(0,2):\n",
    "    print(i)"
   ]
  },
  {
   "cell_type": "code",
   "execution_count": 33,
   "metadata": {},
   "outputs": [
    {
     "name": "stdout",
     "output_type": "stream",
     "text": [
      "0\n"
     ]
    }
   ],
   "source": [
    "for i in range(1):\n",
    "    print(i)"
   ]
  },
  {
   "cell_type": "code",
   "execution_count": 34,
   "metadata": {},
   "outputs": [
    {
     "name": "stdout",
     "output_type": "stream",
     "text": [
      "3\n",
      "4\n",
      "5\n",
      "6\n"
     ]
    }
   ],
   "source": [
    "for i in range(3,7):\n",
    "    print(i)"
   ]
  },
  {
   "cell_type": "code",
   "execution_count": 36,
   "metadata": {},
   "outputs": [
    {
     "name": "stdout",
     "output_type": "stream",
     "text": [
      "1\n"
     ]
    }
   ],
   "source": [
    "for i in range(1,2):\n",
    "    print(i)"
   ]
  },
  {
   "cell_type": "code",
   "execution_count": 37,
   "metadata": {},
   "outputs": [
    {
     "name": "stdout",
     "output_type": "stream",
     "text": [
      "0\n",
      "1\n",
      "2\n",
      "3\n"
     ]
    }
   ],
   "source": [
    "for i in range(0,4):\n",
    "    print(i)"
   ]
  },
  {
   "cell_type": "code",
   "execution_count": 38,
   "metadata": {},
   "outputs": [
    {
     "name": "stdout",
     "output_type": "stream",
     "text": [
      "5\n",
      "6\n",
      "7\n",
      "8\n",
      "9\n",
      "10\n",
      "11\n",
      "12\n",
      "13\n",
      "14\n",
      "15\n",
      "16\n",
      "17\n",
      "18\n",
      "19\n",
      "20\n",
      "21\n"
     ]
    }
   ],
   "source": [
    "for i in range(5,22):\n",
    "    print(i)"
   ]
  },
  {
   "cell_type": "code",
   "execution_count": 39,
   "metadata": {},
   "outputs": [
    {
     "name": "stdout",
     "output_type": "stream",
     "text": [
      "enter the number you want to add to list: 6\n",
      "enter the text to list: cia\n",
      "enter the text to list: secret\n",
      "enter the text to list: mi6\n",
      "enter the text to list: isi\n",
      "enter the text to list: secret\n",
      "enter the text to list: milk\n",
      "['cia', 'secret', 'mi6', 'isi', 'secret', 'milk']\n",
      "['cia', 'mi6', 'isi', 'milk']\n"
     ]
    }
   ],
   "source": [
    "#(3.24)\n",
    "x = int(input(\"enter the number you want to add to list: \"))\n",
    "list = []\n",
    "for i in range(0,x):\n",
    "    text = str(input(\"enter the text to list: \"))\n",
    "    list.append(text)\n",
    "print(list)\n",
    "\n",
    "for a in list:\n",
    "    if a == \"secret\":\n",
    "        list.remove(\"secret\")\n",
    "print(list)"
   ]
  },
  {
   "cell_type": "code",
   "execution_count": 42,
   "metadata": {},
   "outputs": [
    {
     "name": "stdout",
     "output_type": "stream",
     "text": [
      "enter the number you want to add to list: 5\n",
      "enter the text to list: ELLIE\n",
      "enter the text to list: Steve\n",
      "enter the text to list: SAM\n",
      "enter the text to list: Gevin\n",
      "enter the text to list: Owen\n",
      "['ELLIE', 'Steve', 'SAM', 'Gevin', 'Owen']\n",
      "ELLIE\n",
      "Gevin\n"
     ]
    }
   ],
   "source": [
    "#(3.25)\n",
    "x = int(input(\"enter the number you want to add to list: \"))\n",
    "list = []\n",
    "for i in range(0,x):\n",
    "    text = str(input(\"enter the text to list: \"))\n",
    "    list.append(text)\n",
    "print(list)\n",
    "\n",
    "for i in list:\n",
    "    if i[0] in 'ABCDEFGHIJKLM':\n",
    "        print(i)"
   ]
  },
  {
   "cell_type": "code",
   "execution_count": 43,
   "metadata": {},
   "outputs": [
    {
     "name": "stdout",
     "output_type": "stream",
     "text": [
      "enter the number you want to add to list: 4\n",
      "enter the text to list: 3\n",
      "enter the text to list: 5\n",
      "enter the text to list: 7\n",
      "enter the text to list: 9\n",
      "[3, 5, 7, 9]\n",
      "the first element of the list is:  3 \n",
      "the last of list is:  9\n"
     ]
    }
   ],
   "source": [
    "#(3.26)\n",
    "x = int(input(\"enter the number you want to add to list: \"))\n",
    "list = []\n",
    "for i in range(0,x):\n",
    "    num = int(input(\"enter the text to list: \"))\n",
    "    list.append(num)\n",
    "print(list)\n",
    "list = [list[0],list[-1]]\n",
    "print(\"the first element of the list is: \",list[0],\"\\nthe last of list is: \",list[-1])"
   ]
  },
  {
   "cell_type": "code",
   "execution_count": 44,
   "metadata": {},
   "outputs": [
    {
     "name": "stdout",
     "output_type": "stream",
     "text": [
      "enter the positive integer: 5\n",
      "0\n",
      "5\n",
      "10\n",
      "15\n"
     ]
    }
   ],
   "source": [
    "#(3.27)\n",
    "n = int(input(\"enter the positive integer: \"))\n",
    "for i in range(0,4):\n",
    "    result = n * i\n",
    "    print(result)"
   ]
  },
  {
   "cell_type": "code",
   "execution_count": 45,
   "metadata": {},
   "outputs": [
    {
     "name": "stdout",
     "output_type": "stream",
     "text": [
      "enter the positive integer: 3\n",
      "0\n",
      "1\n",
      "4\n"
     ]
    }
   ],
   "source": [
    "#(3.28)\n",
    "n = int(input(\"enter the positive integer: \"))\n",
    "for i in range(0,n):\n",
    "    result = i ** 2\n",
    "    print(result)"
   ]
  },
  {
   "cell_type": "code",
   "execution_count": 48,
   "metadata": {},
   "outputs": [
    {
     "name": "stdout",
     "output_type": "stream",
     "text": [
      "enter the positive integer: 49\n",
      "1\n",
      "7\n",
      "49\n"
     ]
    }
   ],
   "source": [
    "#(3.29)\n",
    "n = int(input(\"enter the positive integer: \"))\n",
    "for i in range(1, n+1):\n",
    "    if(n % i == 0):\n",
    "        print(i)"
   ]
  },
  {
   "cell_type": "code",
   "execution_count": 50,
   "metadata": {},
   "outputs": [
    {
     "name": "stdout",
     "output_type": "stream",
     "text": [
      "enter the number: 4.5\n",
      "enter the number: 3\n",
      "enter the number: 3\n",
      "enter the number: 3.5\n",
      "equal\n"
     ]
    }
   ],
   "source": [
    "#(3.30)\n",
    "number1 = eval(input(\"enter the number: \"))\n",
    "number2 = eval(input(\"enter the number: \"))\n",
    "number3 = eval(input(\"enter the number: \"))\n",
    "number4 = eval(input(\"enter the number: \"))\n",
    "average = (number1 + number2 + number3) / 3\n",
    "if average == number4:\n",
    "    print(\"equal\")"
   ]
  },
  {
   "cell_type": "code",
   "execution_count": 51,
   "metadata": {},
   "outputs": [
    {
     "name": "stdout",
     "output_type": "stream",
     "text": [
      "enter the x coordinates: 2.5\n",
      "enter the y coordinates: 4\n",
      "it is in\n"
     ]
    }
   ],
   "source": [
    "#(3.31)\n",
    "x = eval(input(\"enter the x coordinates: \"))\n",
    "y = eval(input(\"enter the y coordinates: \"))\n",
    "if (x and y) <= 10 or (x and y) >= -10:\n",
    "    print(\"it is in\")"
   ]
  },
  {
   "cell_type": "code",
   "execution_count": 10,
   "metadata": {},
   "outputs": [
    {
     "name": "stdout",
     "output_type": "stream",
     "text": [
      "Enter the number: 12345\n",
      "1\n",
      "2\n",
      "3\n",
      "4\n",
      "5\n"
     ]
    }
   ],
   "source": [
    "#(3.32)\n",
    "num = int(input(\"Enter the number: \"))\n",
    "for i in repr(num):\n",
    "    if i.isdigit():\n",
    "        print(i)"
   ]
  },
  {
   "cell_type": "code",
   "execution_count": 56,
   "metadata": {},
   "outputs": [
    {
     "name": "stdout",
     "output_type": "stream",
     "text": [
      "enter the string: ariba\n",
      "abira\n",
      "\n",
      "\n",
      "enter the string: armin\n",
      "nimra\n"
     ]
    }
   ],
   "source": [
    "#(3.33)\n",
    "string = str(input(\"enter the string: \"))\n",
    "def reverse_string(string):\n",
    "    print(string[:: -1])\n",
    "    return\n",
    "reverse_string(string)\n",
    "print(\"\\n\")\n",
    "string = str(input(\"enter the string: \"))\n",
    "reverse_string(string)"
   ]
  },
  {
   "cell_type": "code",
   "execution_count": 69,
   "metadata": {},
   "outputs": [
    {
     "name": "stdout",
     "output_type": "stream",
     "text": [
      "enter hourly wages: 10\n",
      "enter hours employee worked at last week: 35\n",
      "employee payment is:  350\n"
     ]
    }
   ],
   "source": [
    "#(3.34)\n",
    "def pay(wages,hoursworked):\n",
    "    if hoursworked>40:\n",
    "        payment = (wages*40) * ((wages * 1.5)*(hoursworked - 40))\n",
    "        print(\"employee payment is: \",payment)\n",
    "    else:\n",
    "        payment = hoursworked*wages\n",
    "        print(\"employee payment is: \",payment)\n",
    "        return\n",
    "wages = eval(input(\"enter hourly wages: \"))\n",
    "hoursworked = eval(input(\"enter hours employee worked at last week: \"))\n",
    "pay(wages,hoursworked)"
   ]
  },
  {
   "cell_type": "code",
   "execution_count": 66,
   "metadata": {},
   "outputs": [
    {
     "name": "stdout",
     "output_type": "stream",
     "text": [
      "enter hourly wages: 10\n",
      "enter hours employee worked at last week: 45\n",
      "employee payment is:  30000.0\n"
     ]
    }
   ],
   "source": [
    "wages = eval(input(\"enter hourly wages: \"))\n",
    "hoursworked = eval(input(\"enter hours employee worked at last week: \"))\n",
    "pay(wages,hoursworked)  "
   ]
  },
  {
   "cell_type": "code",
   "execution_count": 70,
   "metadata": {},
   "outputs": [
    {
     "name": "stdout",
     "output_type": "stream",
     "text": [
      "enter a num: 1\n",
      "0.5\n"
     ]
    }
   ],
   "source": [
    "#(3.35)\n",
    "def porbablity(x):\n",
    "    prob = 2**(-x)\n",
    "    print(prob)\n",
    "    return\n",
    "x = int(input(\"enter a num: \"))\n",
    "porbablity(x)"
   ]
  },
  {
   "cell_type": "code",
   "execution_count": 71,
   "metadata": {},
   "outputs": [
    {
     "name": "stdout",
     "output_type": "stream",
     "text": [
      "enter a num: 2\n",
      "0.25\n"
     ]
    }
   ],
   "source": [
    "x = int(input(\"enter a num: \"))\n",
    "porbablity(x)"
   ]
  },
  {
   "cell_type": "code",
   "execution_count": 73,
   "metadata": {},
   "outputs": [
    {
     "name": "stdout",
     "output_type": "stream",
     "text": [
      "enter the num: 7513\n",
      "3\n"
     ]
    }
   ],
   "source": [
    "#(3.36)\n",
    "def reverse_int(number):\n",
    "    reverse = 0\n",
    "    while (number > 0):\n",
    "        reminder = number % 10\n",
    "        reverse = (reverse * 10) + reminder\n",
    "        number = number // 10\n",
    "        print(reverse)\n",
    "        return\n",
    "number = int(input(\"enter the num: \"))\n",
    "reverse_int(number)"
   ]
  },
  {
   "cell_type": "code",
   "execution_count": 1,
   "metadata": {},
   "outputs": [
    {
     "name": "stdout",
     "output_type": "stream",
     "text": [
      "enter x1 coordinate: 3\n",
      "enter x2 coordinate: 4\n",
      "enter y1 coordinate: 2\n",
      "enter y2 coordinate: 1\n",
      "the slope is:  -1.0 \n",
      "dist. b/w two point is:  1.4142135623730951 cm\n"
     ]
    }
   ],
   "source": [
    "#### (3.37)\n",
    "from math import sqrt\n",
    "def point(x1,y1,x2,y2):\n",
    "    if (x1 - x2) == 0:\n",
    "        distance = sqrt((x2 - x1)**2 + (y2 - y1)**2)\n",
    "        print(\"dist. b/w two point is: \",distance,\"cm\")\n",
    "    else:\n",
    "        slope = (y2 - y1) / (x2 - x1)\n",
    "        distance = sqrt((x2 - x1)**2 + (y2 - y1)**2)\n",
    "        print(\"the slope is: \",slope,\"\\ndist. b/w two point is: \",distance,\"cm\")\n",
    "        return\n",
    "x1 = eval(input(\"enter x1 coordinate: \"))\n",
    "x2 = eval(input(\"enter x2 coordinate: \"))\n",
    "y1 = eval(input(\"enter y1 coordinate: \"))\n",
    "y2 = eval(input(\"enter y2 coordinate: \"))\n",
    "point(x1,y1,x2,y2)"
   ]
  },
  {
   "cell_type": "code",
   "execution_count": 2,
   "metadata": {},
   "outputs": [
    {
     "name": "stdout",
     "output_type": "stream",
     "text": [
      "enter x1 coordinate: 5\n",
      "enter x2 coordinate: 3\n",
      "enter y1 coordinate: 4\n",
      "enter y2 coordinate: 2\n",
      "the slope is:  1.0 \n",
      "dist. b/w two point is:  2.8284271247461903 cm\n"
     ]
    }
   ],
   "source": [
    "x1 = eval(input(\"enter x1 coordinate: \"))\n",
    "x2 = eval(input(\"enter x2 coordinate: \"))\n",
    "y1 = eval(input(\"enter y1 coordinate: \"))\n",
    "y2 = eval(input(\"enter y2 coordinate: \"))\n",
    "point(x1,y1,x2,y2)"
   ]
  },
  {
   "cell_type": "code",
   "execution_count": 4,
   "metadata": {},
   "outputs": [
    {
     "name": "stdout",
     "output_type": "stream",
     "text": [
      "enter day: wednesday\n",
      "we\n"
     ]
    }
   ],
   "source": [
    "#(3.38)\n",
    "def abbreviation(day):\n",
    "    print(day[:2])\n",
    "    return\n",
    "day = str(input(\"enter day: \"))\n",
    "abbreviation(day)"
   ]
  },
  {
   "cell_type": "code",
   "execution_count": 2,
   "metadata": {},
   "outputs": [
    {
     "name": "stdout",
     "output_type": "stream",
     "text": [
      "enter x1 coordinate: 2\n",
      "enter y2 coordinate: 3\n",
      "enter r1 coordinate: 7\n",
      "enter x2 coordinate: 2\n",
      "enter y2 coordinate: 5\n",
      "enter r2 coordinate: 7\n",
      "True\n",
      "enter x1 coordinate: 2\n",
      "enter y2 coordinate: 4\n",
      "enter r1 coordinate: 6\n",
      "enter x2 coordinate: 8\n",
      "enter y2 coordinate: 10\n",
      "enter r2 coordinate: 13\n"
     ]
    },
    {
     "data": {
      "text/plain": [
       "False"
      ]
     },
     "execution_count": 2,
     "metadata": {},
     "output_type": "execute_result"
    }
   ],
   "source": [
    "#(3.39)\n",
    "def collision(x1,y1,r1,x2,y2,r2):\n",
    "    if (x1 == x2) and (r1 == r2):\n",
    "        print(\"True\")\n",
    "    else:\n",
    "        return False\n",
    "x1 = eval(input(\"enter x1 coordinate: \"))\n",
    "y1 = eval(input(\"enter y2 coordinate: \"))\n",
    "r1 = eval(input(\"enter r1 coordinate: \"))\n",
    "x2 = eval(input(\"enter x2 coordinate: \"))\n",
    "y2 = eval(input(\"enter y2 coordinate: \"))\n",
    "r2 = eval(input(\"enter r2 coordinate: \"))\n",
    "collision(x1,y1,r1,x2,y2,r2)\n",
    "\n",
    "\n",
    "#(b)\n",
    "\n",
    "x1 = eval(input(\"enter x1 coordinate: \"))\n",
    "y1 = eval(input(\"enter y2 coordinate: \"))\n",
    "r1 = eval(input(\"enter r1 coordinate: \"))\n",
    "x2 = eval(input(\"enter x2 coordinate: \"))\n",
    "y2 = eval(input(\"enter y2 coordinate: \"))\n",
    "r2 = eval(input(\"enter r2 coordinate: \"))\n",
    "collision(x1,y1,r1,x2,y2,r2)"
   ]
  },
  {
   "cell_type": "code",
   "execution_count": 2,
   "metadata": {},
   "outputs": [
    {
     "name": "stdout",
     "output_type": "stream",
     "text": [
      "Eleanor\n",
      "Evelyn\n",
      "Gavin\n"
     ]
    }
   ],
   "source": [
    "#(3.40)\n",
    "def partition(list):\n",
    "    for i in list:\n",
    "        if i[0] in \"ABCDEFGHIJKLM\":\n",
    "            print(i)\n",
    "partition([\"Eleanor\", \"Evelyn\", \"Sammy\", \"Owen\", \"Gavin\"])"
   ]
  },
  {
   "cell_type": "code",
   "execution_count": 3,
   "metadata": {},
   "outputs": [
    {
     "name": "stdout",
     "output_type": "stream",
     "text": [
      "Enter your first name: ARI\n",
      "Enter your last name: NIMI\n",
      "NIMI,A\n"
     ]
    }
   ],
   "source": [
    "#(3.41)\n",
    "def lastF(firstName, lastName):\n",
    "    print(lastName + \",\" + firstName[:1])\n",
    "    return\n",
    "firstName = str(input(\"Enter your first name: \"))\n",
    "lastName = str(input(\"Enter your last name: \"))\n",
    "lastF(firstName, lastName)"
   ]
  },
  {
   "cell_type": "code",
   "execution_count": 4,
   "metadata": {},
   "outputs": [
    {
     "name": "stdout",
     "output_type": "stream",
     "text": [
      " 90.0 \n",
      " 60.0 \n",
      " 87.0 \n",
      " 11.0\n"
     ]
    }
   ],
   "source": [
    "#(3.42)\n",
    "def avg(l1, l2, l3, l4):\n",
    "    a1 = sum(l1)/len(l1)\n",
    "    a2 = sum(l2)/len(l2)\n",
    "    a3 = sum(l3)/len(l3)\n",
    "    a4 = sum(l4)/len(l4)\n",
    "    print(\"\", a1,\"\\n\", a2,\"\\n\", a3,\"\\n\", a4)\n",
    "    return\n",
    "avg([95, 92, 86, 87], [66, 54], [89, 72, 100], [33, 0, 0])"
   ]
  },
  {
   "cell_type": "code",
   "execution_count": 6,
   "metadata": {},
   "outputs": [
    {
     "name": "stdout",
     "output_type": "stream",
     "text": [
      "True\n",
      "False\n"
     ]
    }
   ],
   "source": [
    "#(3.43)\n",
    "def hit(x1, y1, r1, x2, y2):\n",
    "    if (x2 <= r1) and (y2 <= r1):\n",
    "        print(\"True\")\n",
    "    else:\n",
    "        print(\"False\")\n",
    "    return\n",
    "hit(0, 0, 3, 3, 0)\n",
    "hit(0, 0, 3, 4, 0)"
   ]
  },
  {
   "cell_type": "code",
   "execution_count": 2,
   "metadata": {},
   "outputs": [
    {
     "name": "stdout",
     "output_type": "stream",
     "text": [
      "enter speed: 340.2\n",
      "enter time: 3\n",
      "3 sec\n",
      "340.2 m\n",
      "Distance of Thunder is:  1.0206 km\n"
     ]
    }
   ],
   "source": [
    "#(3.44)\n",
    "def distance(time):\n",
    "    dist = speed * time\n",
    "    print(time,\"sec\")\n",
    "    print(speed,\"m\")\n",
    "    print(\"Distance of Thunder is: \",dist / 1000, \"km\")\n",
    "    return\n",
    "speed = eval(input(\"enter speed: \"))\n",
    "time = int(input(\"enter time: \"))\n",
    "distance(time)"
   ]
  }
 ],
 "metadata": {
  "kernelspec": {
   "display_name": "Python 3",
   "language": "python",
   "name": "python3"
  },
  "language_info": {
   "codemirror_mode": {
    "name": "ipython",
    "version": 3
   },
   "file_extension": ".py",
   "mimetype": "text/x-python",
   "name": "python",
   "nbconvert_exporter": "python",
   "pygments_lexer": "ipython3",
   "version": "3.7.3"
  }
 },
 "nbformat": 4,
 "nbformat_minor": 2
}
